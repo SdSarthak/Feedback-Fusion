{
 "cells": [
  {
   "cell_type": "code",
   "execution_count": 34,
   "metadata": {},
   "outputs": [
    {
     "name": "stderr",
     "output_type": "stream",
     "text": [
      "[nltk_data] Downloading package punkt to\n",
      "[nltk_data]     C:\\Users\\ASUS\\AppData\\Roaming\\nltk_data...\n",
      "[nltk_data]   Package punkt is already up-to-date!\n",
      "[nltk_data] Downloading package stopwords to\n",
      "[nltk_data]     C:\\Users\\ASUS\\AppData\\Roaming\\nltk_data...\n",
      "[nltk_data]   Package stopwords is already up-to-date!\n"
     ]
    }
   ],
   "source": [
    "import re \n",
    "import emoji \n",
    "import random \n",
    "import pandas as pd\n",
    "from nltk.tokenize import word_tokenize\n",
    "from nltk.corpus import stopwords\n",
    "\n",
    "import nltk\n",
    "nltk.download('punkt')\n",
    "nltk.download('stopwords')\n",
    "\n",
    "def extract_emojis(comment):\n",
    "    return ''.join(c for c in comment if c in emoji.EMOJI_DATA)\n",
    "\n",
    "def preprocess_comment(comment):\n",
    "    comment = re.sub(r'http\\S+|www.\\S+','',comment)\n",
    "    tokens = word_tokenize(comment.lower())\n",
    "    stop_words = set(stopwords.words('english'))\n",
    "    cleaned_tokens = [token for token in tokens if token.isalnum() and token not in stop_words]\n",
    "    return ' '.join(cleaned_tokens)\n",
    "\n",
    "comments = pd.read_csv(\"youtube_comments.csv\")\n"
   ]
  },
  {
   "cell_type": "code",
   "execution_count": 35,
   "metadata": {},
   "outputs": [
    {
     "data": {
      "text/html": [
       "<div>\n",
       "<style scoped>\n",
       "    .dataframe tbody tr th:only-of-type {\n",
       "        vertical-align: middle;\n",
       "    }\n",
       "\n",
       "    .dataframe tbody tr th {\n",
       "        vertical-align: top;\n",
       "    }\n",
       "\n",
       "    .dataframe thead th {\n",
       "        text-align: right;\n",
       "    }\n",
       "</style>\n",
       "<table border=\"1\" class=\"dataframe\">\n",
       "  <thead>\n",
       "    <tr style=\"text-align: right;\">\n",
       "      <th></th>\n",
       "      <th>Author</th>\n",
       "      <th>Comment</th>\n",
       "      <th>Published At</th>\n",
       "      <th>Likes</th>\n",
       "    </tr>\n",
       "  </thead>\n",
       "  <tbody>\n",
       "    <tr>\n",
       "      <th>0</th>\n",
       "      <td>@themooseontheloose</td>\n",
       "      <td>Go to &lt;a href=\"https://ground.news/moose\"&gt;http...</td>\n",
       "      <td>2024-10-17T06:28:54Z</td>\n",
       "      <td>103</td>\n",
       "    </tr>\n",
       "    <tr>\n",
       "      <th>1</th>\n",
       "      <td>@pradip4581</td>\n",
       "      <td>Treaudu is a disgrace to canada.....</td>\n",
       "      <td>2024-11-20T22:11:19Z</td>\n",
       "      <td>0</td>\n",
       "    </tr>\n",
       "    <tr>\n",
       "      <th>2</th>\n",
       "      <td>@Arpit.Vajpayee</td>\n",
       "      <td>Brother... We love is just that I cannot belie...</td>\n",
       "      <td>2024-11-18T15:46:51Z</td>\n",
       "      <td>1</td>\n",
       "    </tr>\n",
       "    <tr>\n",
       "      <th>3</th>\n",
       "      <td>@imtweetydiva29</td>\n",
       "      <td>Kevin O&amp;#39;Leary said in an interview, &amp;quot;...</td>\n",
       "      <td>2024-11-17T14:13:37Z</td>\n",
       "      <td>0</td>\n",
       "    </tr>\n",
       "    <tr>\n",
       "      <th>4</th>\n",
       "      <td>@AmbSanma</td>\n",
       "      <td>Trudeau on hot soup</td>\n",
       "      <td>2024-11-16T16:55:03Z</td>\n",
       "      <td>0</td>\n",
       "    </tr>\n",
       "  </tbody>\n",
       "</table>\n",
       "</div>"
      ],
      "text/plain": [
       "                Author                                            Comment  \\\n",
       "0  @themooseontheloose  Go to <a href=\"https://ground.news/moose\">http...   \n",
       "1          @pradip4581               Treaudu is a disgrace to canada.....   \n",
       "2      @Arpit.Vajpayee  Brother... We love is just that I cannot belie...   \n",
       "3      @imtweetydiva29  Kevin O&#39;Leary said in an interview, &quot;...   \n",
       "4            @AmbSanma                                Trudeau on hot soup   \n",
       "\n",
       "           Published At  Likes  \n",
       "0  2024-10-17T06:28:54Z    103  \n",
       "1  2024-11-20T22:11:19Z      0  \n",
       "2  2024-11-18T15:46:51Z      1  \n",
       "3  2024-11-17T14:13:37Z      0  \n",
       "4  2024-11-16T16:55:03Z      0  "
      ]
     },
     "execution_count": 35,
     "metadata": {},
     "output_type": "execute_result"
    }
   ],
   "source": [
    "comments.head()"
   ]
  },
  {
   "cell_type": "code",
   "execution_count": 36,
   "metadata": {},
   "outputs": [],
   "source": [
    "only_com = comments.drop(columns= {'Author','Published At', 'Likes'})"
   ]
  },
  {
   "cell_type": "code",
   "execution_count": 37,
   "metadata": {},
   "outputs": [
    {
     "data": {
      "text/html": [
       "<div>\n",
       "<style scoped>\n",
       "    .dataframe tbody tr th:only-of-type {\n",
       "        vertical-align: middle;\n",
       "    }\n",
       "\n",
       "    .dataframe tbody tr th {\n",
       "        vertical-align: top;\n",
       "    }\n",
       "\n",
       "    .dataframe thead th {\n",
       "        text-align: right;\n",
       "    }\n",
       "</style>\n",
       "<table border=\"1\" class=\"dataframe\">\n",
       "  <thead>\n",
       "    <tr style=\"text-align: right;\">\n",
       "      <th></th>\n",
       "      <th>Comment</th>\n",
       "    </tr>\n",
       "  </thead>\n",
       "  <tbody>\n",
       "    <tr>\n",
       "      <th>0</th>\n",
       "      <td>Go to &lt;a href=\"https://ground.news/moose\"&gt;http...</td>\n",
       "    </tr>\n",
       "    <tr>\n",
       "      <th>1</th>\n",
       "      <td>Treaudu is a disgrace to canada.....</td>\n",
       "    </tr>\n",
       "    <tr>\n",
       "      <th>2</th>\n",
       "      <td>Brother... We love is just that I cannot belie...</td>\n",
       "    </tr>\n",
       "    <tr>\n",
       "      <th>3</th>\n",
       "      <td>Kevin O&amp;#39;Leary said in an interview, &amp;quot;...</td>\n",
       "    </tr>\n",
       "    <tr>\n",
       "      <th>4</th>\n",
       "      <td>Trudeau on hot soup</td>\n",
       "    </tr>\n",
       "  </tbody>\n",
       "</table>\n",
       "</div>"
      ],
      "text/plain": [
       "                                             Comment\n",
       "0  Go to <a href=\"https://ground.news/moose\">http...\n",
       "1               Treaudu is a disgrace to canada.....\n",
       "2  Brother... We love is just that I cannot belie...\n",
       "3  Kevin O&#39;Leary said in an interview, &quot;...\n",
       "4                                Trudeau on hot soup"
      ]
     },
     "execution_count": 37,
     "metadata": {},
     "output_type": "execute_result"
    }
   ],
   "source": [
    "only_com.head()"
   ]
  },
  {
   "cell_type": "code",
   "execution_count": 38,
   "metadata": {},
   "outputs": [
    {
     "data": {
      "text/plain": [
       "Index(['Comment'], dtype='object')"
      ]
     },
     "execution_count": 38,
     "metadata": {},
     "output_type": "execute_result"
    }
   ],
   "source": [
    "only_com.columns"
   ]
  },
  {
   "cell_type": "code",
   "execution_count": 39,
   "metadata": {},
   "outputs": [],
   "source": [
    "emoji_list = []\n",
    "processed_text_list = []\n",
    "for comment in only_com['Comment']:\n",
    "    emojis = extract_emojis(comment)\n",
    "    preprocessed_text = preprocess_comment(comment)\n",
    "    emoji_list.append(emojis)\n",
    "    processed_text_list.append(preprocessed_text)\n",
    "    \n",
    "only_com['Emojis'] = emoji_list\n",
    "only_com['Preprocessed_Text'] = processed_text_list\n",
    "\n"
   ]
  },
  {
   "cell_type": "code",
   "execution_count": 40,
   "metadata": {},
   "outputs": [
    {
     "data": {
      "text/plain": [
       "Index(['Comment', 'Emojis', 'Preprocessed_Text'], dtype='object')"
      ]
     },
     "execution_count": 40,
     "metadata": {},
     "output_type": "execute_result"
    }
   ],
   "source": [
    "only_com.columns\n"
   ]
  },
  {
   "cell_type": "code",
   "execution_count": 41,
   "metadata": {},
   "outputs": [
    {
     "data": {
      "text/plain": [
       "Comment              0\n",
       "Emojis               0\n",
       "Preprocessed_Text    0\n",
       "dtype: int64"
      ]
     },
     "execution_count": 41,
     "metadata": {},
     "output_type": "execute_result"
    }
   ],
   "source": [
    "only_com.isnull().sum()"
   ]
  },
  {
   "cell_type": "code",
   "execution_count": 42,
   "metadata": {},
   "outputs": [
    {
     "name": "stdout",
     "output_type": "stream",
     "text": [
      "['C:\\\\Users\\\\ASUS/nltk_data', 'e:\\\\Ashu_Main\\\\feedback_fusion\\\\Feedback-Fusion\\\\minor-feedback-fusion\\\\nltk_data', 'e:\\\\Ashu_Main\\\\feedback_fusion\\\\Feedback-Fusion\\\\minor-feedback-fusion\\\\share\\\\nltk_data', 'e:\\\\Ashu_Main\\\\feedback_fusion\\\\Feedback-Fusion\\\\minor-feedback-fusion\\\\lib\\\\nltk_data', 'C:\\\\Users\\\\ASUS\\\\AppData\\\\Roaming\\\\nltk_data', 'C:\\\\nltk_data', 'D:\\\\nltk_data', 'E:\\\\nltk_data']\n"
     ]
    },
    {
     "data": {
      "text/plain": [
       "['Test', 'sentence', 'for', 'verification', '.']"
      ]
     },
     "execution_count": 42,
     "metadata": {},
     "output_type": "execute_result"
    }
   ],
   "source": [
    "import nltk\n",
    "print(nltk.data.path)  # Check where NLTK looks for its data\n",
    "\n",
    "# Verify the 'punkt' resource is accessible\n",
    "from nltk.tokenize import word_tokenize\n",
    "word_tokenize(\"Test sentence for verification.\")\n"
   ]
  },
  {
   "cell_type": "code",
   "execution_count": 43,
   "metadata": {},
   "outputs": [
    {
     "name": "stderr",
     "output_type": "stream",
     "text": [
      "[nltk_data] Downloading package punkt to\n",
      "[nltk_data]     C:\\Users\\ASUS\\AppData\\Roaming\\nltk_data...\n",
      "[nltk_data]   Package punkt is already up-to-date!\n",
      "[nltk_data] Downloading package stopwords to\n",
      "[nltk_data]     C:\\Users\\ASUS\\AppData\\Roaming\\nltk_data...\n",
      "[nltk_data]   Package stopwords is already up-to-date!\n"
     ]
    },
    {
     "data": {
      "text/plain": [
       "True"
      ]
     },
     "execution_count": 43,
     "metadata": {},
     "output_type": "execute_result"
    }
   ],
   "source": [
    "nltk.download('punkt')\n",
    "nltk.download('stopwords')\n"
   ]
  },
  {
   "cell_type": "code",
   "execution_count": 44,
   "metadata": {},
   "outputs": [
    {
     "name": "stdout",
     "output_type": "stream",
     "text": [
      "3.9.1\n"
     ]
    }
   ],
   "source": [
    "import nltk\n",
    "print(nltk.__version__)  # Check if the latest version is installed\n"
   ]
  },
  {
   "cell_type": "code",
   "execution_count": 45,
   "metadata": {},
   "outputs": [
    {
     "name": "stderr",
     "output_type": "stream",
     "text": [
      "[nltk_data] Downloading package punkt_tab to\n",
      "[nltk_data]     C:\\Users\\ASUS\\AppData\\Roaming\\nltk_data...\n",
      "[nltk_data]   Package punkt_tab is already up-to-date!\n"
     ]
    },
    {
     "data": {
      "text/plain": [
       "True"
      ]
     },
     "execution_count": 45,
     "metadata": {},
     "output_type": "execute_result"
    }
   ],
   "source": [
    "nltk.download('punkt_tab')"
   ]
  },
  {
   "cell_type": "markdown",
   "metadata": {},
   "source": [
    "# Sentiment Analysis"
   ]
  },
  {
   "cell_type": "code",
   "execution_count": null,
   "metadata": {},
   "outputs": [],
   "source": [
    "from textblob import TextBlob\n",
    "\n",
    "def analyze_sentiment(comment):\n",
    "    analysis = TextBlob(comment).sentiment\n",
    "    return analysis.polarity, analysis.subjectivity\n",
    "\n",
    "def classify_review():\n",
    "    analysis = TextBlob(comment).sentiment\n",
    "    \n",
    "    if analysis > 0:\n",
    "        return 'Positive'\n",
    "    elif analysis == 0:\n",
    "        return 'Neutral'\n",
    "    else:\n",
    "        return 'Negative'\n",
    "    \n",
    "\n",
    "only_com['Sentiment'] = only_com['Review'].apply(classify_review)\n",
    "\n",
    "polarity_list = []\n",
    "subjectivity_list = []\n",
    "    \n",
    "for comment in only_com['Preprocessed_Text']:\n",
    "    polarity, subjectivity = analyze_sentiment(comment)\n",
    "    polarity_list.append(polarity)\n",
    "    subjectivity_list.append(subjectivity)\n",
    "    \n",
    "only_com['Polarity'] = polarity_list\n",
    "only_com['Subjectivity'] = subjectivity_list"
   ]
  },
  {
   "cell_type": "code",
   "execution_count": null,
   "metadata": {},
   "outputs": [],
   "source": [
    "import plotly.graph_objects as go\n",
    "sentiment_distribution = only_com['Sentiment'].value_counts()\n",
    "fig = go.Figure(data=[go.bar\n",
    "    x = sentiment_distribution.index,\n",
    "    y = sentiment_distribution.values,\n",
    "    marker_color = \n",
    "                      ])"
   ]
  },
  {
   "cell_type": "code",
   "execution_count": 47,
   "metadata": {},
   "outputs": [],
   "source": [
    "# Analyze Emojis\n",
    "\n",
    "from collections import Counter\n",
    "\n",
    "only_com['emoji_count'] = only_com['Emojis'].apply(lambda x: len(x) if isinstance(x, str) else 0)\n",
    "\n",
    "def analyze_emojis(only_com):\n",
    "    emoji_list = []\n",
    "    for emoji_str in only_com['Emojis']:\n",
    "        if isinstance(emoji_str, str):\n",
    "            emoji_list.extend(list(emoji_str))\n",
    "        \n",
    "    return dict(Counter(emoji_list))\n",
    "\n",
    "emoji_analysis = analyze_emojis(only_com)\n"
   ]
  },
  {
   "cell_type": "code",
   "execution_count": 48,
   "metadata": {},
   "outputs": [
    {
     "name": "stdout",
     "output_type": "stream",
     "text": [
      "{'😂': 439, '😅': 59, '🔥': 4, '❤': 38, '😎': 8, '❎': 4, '✅': 7, '🤣': 75, '🤝': 5, '🤡': 31, '🗑': 2, '💯': 5, '🍁': 3, '😆': 15, '✌': 7, '🙏': 28, '🕉': 1, '\\U0001faaf': 1, '❌': 5, '👍': 26, '👌': 6, '🌈': 2, '😊': 16, '😏': 1, '🦯': 1, '😢': 31, '🎉': 15, '🫠': 2, '😜': 1, '🙁': 1, '🙂': 2, '🃏': 2, '☠': 2, '🏼': 3, '😭': 4, '💀': 1, '💸': 1, '😗': 1, '👿': 1, '👎': 6, '😟': 1, '🤮': 8, '⚠': 6, '🤷': 6, '♂': 9, '🚬': 1, '🗿': 1, '🐖': 1, '🤞': 4, '🫰': 4, '🫶': 2, '🤑': 1, '😃': 1, '🤔': 31, '🌚': 2, '🤥': 1, '🫡': 1, '😮': 22, '♀': 2, '🤓': 1, '☝': 1, '🙊': 1, '🥲': 2, '👶': 1, '💃': 2, '🤬': 7, '👻': 2, '😬': 1, '😵': 1, '💫': 1, '💓': 3, '🤦': 2, '🙋': 1, '🏻': 14, '🍿': 4, '💔': 1, '🏒': 2, '😔': 3, '👏': 17, '💪': 5, '🌎': 4, '🌍': 1, '👀': 1, '🥰': 6, '🐂': 1, '💩': 4, '😹': 3, '😠': 1, '✝': 2, '😘': 1, '🗺': 1, '🙄': 1, '‼': 1, '🧂': 2, '🏴': 1, '👳': 3, '🏽': 1, '🏾': 1, '🙈': 1, '🤨': 1, '🧐': 1, '🤪': 1, '😳': 1, '💨': 2, '🙌': 1, '✊': 1, '☕': 5, '🌴': 1, '😒': 1, '⁉': 1, '🕷': 1, '🧑': 1, '🕸': 1, '💜': 1, '🆘': 1, '😈': 1, '🖕': 2, '😽': 1, '🥳': 1, '🦌': 1, '\\U0001face': 1, '✈': 1, '🙃': 1, '🛎': 3, '😄': 2, '👺': 1, '😀': 1, '😁': 3, '🤫': 1, '👋': 1}\n"
     ]
    }
   ],
   "source": [
    "print(emoji_analysis)"
   ]
  },
  {
   "cell_type": "code",
   "execution_count": 49,
   "metadata": {},
   "outputs": [
    {
     "data": {
      "text/html": [
       "<div>\n",
       "<style scoped>\n",
       "    .dataframe tbody tr th:only-of-type {\n",
       "        vertical-align: middle;\n",
       "    }\n",
       "\n",
       "    .dataframe tbody tr th {\n",
       "        vertical-align: top;\n",
       "    }\n",
       "\n",
       "    .dataframe thead th {\n",
       "        text-align: right;\n",
       "    }\n",
       "</style>\n",
       "<table border=\"1\" class=\"dataframe\">\n",
       "  <thead>\n",
       "    <tr style=\"text-align: right;\">\n",
       "      <th></th>\n",
       "      <th>Comment</th>\n",
       "      <th>Emojis</th>\n",
       "      <th>Preprocessed_Text</th>\n",
       "      <th>Polarity</th>\n",
       "      <th>Subjectivity</th>\n",
       "      <th>emoji_count</th>\n",
       "    </tr>\n",
       "  </thead>\n",
       "  <tbody>\n",
       "    <tr>\n",
       "      <th>0</th>\n",
       "      <td>Go to &lt;a href=\"https://ground.news/moose\"&gt;http...</td>\n",
       "      <td></td>\n",
       "      <td>go see beyond biased media reporting uncover m...</td>\n",
       "      <td>0.000</td>\n",
       "      <td>0.00</td>\n",
       "      <td>0</td>\n",
       "    </tr>\n",
       "    <tr>\n",
       "      <th>1</th>\n",
       "      <td>Treaudu is a disgrace to canada.....</td>\n",
       "      <td></td>\n",
       "      <td>treaudu disgrace canada</td>\n",
       "      <td>0.000</td>\n",
       "      <td>0.00</td>\n",
       "      <td>0</td>\n",
       "    </tr>\n",
       "    <tr>\n",
       "      <th>2</th>\n",
       "      <td>Brother... We love is just that I cannot belie...</td>\n",
       "      <td></td>\n",
       "      <td>brother love believe canada stand communities ...</td>\n",
       "      <td>0.050</td>\n",
       "      <td>0.62</td>\n",
       "      <td>0</td>\n",
       "    </tr>\n",
       "    <tr>\n",
       "      <th>3</th>\n",
       "      <td>Kevin O&amp;#39;Leary said in an interview, &amp;quot;...</td>\n",
       "      <td></td>\n",
       "      <td>kevin 39 leary said interview quot trudeau don...</td>\n",
       "      <td>-0.625</td>\n",
       "      <td>1.00</td>\n",
       "      <td>0</td>\n",
       "    </tr>\n",
       "    <tr>\n",
       "      <th>4</th>\n",
       "      <td>Trudeau on hot soup</td>\n",
       "      <td></td>\n",
       "      <td>trudeau hot soup</td>\n",
       "      <td>0.250</td>\n",
       "      <td>0.85</td>\n",
       "      <td>0</td>\n",
       "    </tr>\n",
       "  </tbody>\n",
       "</table>\n",
       "</div>"
      ],
      "text/plain": [
       "                                             Comment Emojis  \\\n",
       "0  Go to <a href=\"https://ground.news/moose\">http...          \n",
       "1               Treaudu is a disgrace to canada.....          \n",
       "2  Brother... We love is just that I cannot belie...          \n",
       "3  Kevin O&#39;Leary said in an interview, &quot;...          \n",
       "4                                Trudeau on hot soup          \n",
       "\n",
       "                                   Preprocessed_Text  Polarity  Subjectivity  \\\n",
       "0  go see beyond biased media reporting uncover m...     0.000          0.00   \n",
       "1                            treaudu disgrace canada     0.000          0.00   \n",
       "2  brother love believe canada stand communities ...     0.050          0.62   \n",
       "3  kevin 39 leary said interview quot trudeau don...    -0.625          1.00   \n",
       "4                                   trudeau hot soup     0.250          0.85   \n",
       "\n",
       "   emoji_count  \n",
       "0            0  \n",
       "1            0  \n",
       "2            0  \n",
       "3            0  \n",
       "4            0  "
      ]
     },
     "execution_count": 49,
     "metadata": {},
     "output_type": "execute_result"
    }
   ],
   "source": [
    "only_com.head()"
   ]
  },
  {
   "cell_type": "code",
   "execution_count": 50,
   "metadata": {},
   "outputs": [
    {
     "data": {
      "text/html": [
       "<div>\n",
       "<style scoped>\n",
       "    .dataframe tbody tr th:only-of-type {\n",
       "        vertical-align: middle;\n",
       "    }\n",
       "\n",
       "    .dataframe tbody tr th {\n",
       "        vertical-align: top;\n",
       "    }\n",
       "\n",
       "    .dataframe thead th {\n",
       "        text-align: right;\n",
       "    }\n",
       "</style>\n",
       "<table border=\"1\" class=\"dataframe\">\n",
       "  <thead>\n",
       "    <tr style=\"text-align: right;\">\n",
       "      <th></th>\n",
       "      <th>Comment</th>\n",
       "      <th>Emojis</th>\n",
       "      <th>Preprocessed_Text</th>\n",
       "      <th>Polarity</th>\n",
       "      <th>Subjectivity</th>\n",
       "      <th>emoji_count</th>\n",
       "    </tr>\n",
       "  </thead>\n",
       "  <tbody>\n",
       "    <tr>\n",
       "      <th>2163</th>\n",
       "      <td>I hate to see what’s become of Canada.. I hate...</td>\n",
       "      <td></td>\n",
       "      <td>hate see become canada hate even lie say want ...</td>\n",
       "      <td>-0.8</td>\n",
       "      <td>0.9</td>\n",
       "      <td>0</td>\n",
       "    </tr>\n",
       "    <tr>\n",
       "      <th>2164</th>\n",
       "      <td>☕️</td>\n",
       "      <td>☕</td>\n",
       "      <td></td>\n",
       "      <td>0.0</td>\n",
       "      <td>0.0</td>\n",
       "      <td>1</td>\n",
       "    </tr>\n",
       "    <tr>\n",
       "      <th>2165</th>\n",
       "      <td>Morning David</td>\n",
       "      <td></td>\n",
       "      <td>morning david</td>\n",
       "      <td>0.0</td>\n",
       "      <td>0.0</td>\n",
       "      <td>0</td>\n",
       "    </tr>\n",
       "    <tr>\n",
       "      <th>2166</th>\n",
       "      <td>Morning all</td>\n",
       "      <td></td>\n",
       "      <td>morning</td>\n",
       "      <td>0.0</td>\n",
       "      <td>0.0</td>\n",
       "      <td>0</td>\n",
       "    </tr>\n",
       "    <tr>\n",
       "      <th>2167</th>\n",
       "      <td>Go to &lt;a href=\"https://ground.news/moose\"&gt;http...</td>\n",
       "      <td></td>\n",
       "      <td>go see beyond biased media reporting uncover m...</td>\n",
       "      <td>0.0</td>\n",
       "      <td>0.0</td>\n",
       "      <td>0</td>\n",
       "    </tr>\n",
       "  </tbody>\n",
       "</table>\n",
       "</div>"
      ],
      "text/plain": [
       "                                                Comment Emojis  \\\n",
       "2163  I hate to see what’s become of Canada.. I hate...          \n",
       "2164                                                 ☕️      ☕   \n",
       "2165                                      Morning David          \n",
       "2166                                        Morning all          \n",
       "2167  Go to <a href=\"https://ground.news/moose\">http...          \n",
       "\n",
       "                                      Preprocessed_Text  Polarity  \\\n",
       "2163  hate see become canada hate even lie say want ...      -0.8   \n",
       "2164                                                          0.0   \n",
       "2165                                      morning david       0.0   \n",
       "2166                                            morning       0.0   \n",
       "2167  go see beyond biased media reporting uncover m...       0.0   \n",
       "\n",
       "      Subjectivity  emoji_count  \n",
       "2163           0.9            0  \n",
       "2164           0.0            1  \n",
       "2165           0.0            0  \n",
       "2166           0.0            0  \n",
       "2167           0.0            0  "
      ]
     },
     "execution_count": 50,
     "metadata": {},
     "output_type": "execute_result"
    }
   ],
   "source": [
    "only_com.tail()"
   ]
  },
  {
   "cell_type": "markdown",
   "metadata": {},
   "source": [
    "## Visualization "
   ]
  },
  {
   "cell_type": "code",
   "execution_count": 51,
   "metadata": {},
   "outputs": [
    {
     "data": {
      "image/png": "[encoded data removed]",
      "text/plain": [
       "<Figure size 640x480 with 1 Axes>"
      ]
     },
     "metadata": {},
     "output_type": "display_data"
    }
   ],
   "source": [
    "import matplotlib.pyplot as plt \n",
    "\n",
    "def visualize_sentiments(only_com):\n",
    "    polarities = only_com['Polarity']\n",
    "    plt.hist(polarities,bins = 20, color = 'blue', alpha = 0.7)\n",
    "    plt.title('Sentiment Polarity Distribution')\n",
    "    plt.xlabel('Polarity')\n",
    "    plt.ylabel('Frequency')\n",
    "    plt.show()\n",
    "    \n",
    "visualize_sentiments(only_com)"
   ]
  },
  {
   "cell_type": "code",
   "execution_count": 60,
   "metadata": {},
   "outputs": [
    {
     "name": "stderr",
     "output_type": "stream",
     "text": [
      "e:\\Ashu_Main\\feedback_fusion\\Feedback-Fusion\\minor-feedback-fusion\\Lib\\site-packages\\IPython\\core\\pylabtools.py:170: UserWarning: Glyph 128293 (\\N{FIRE}) missing from font(s) DejaVu Sans.\n",
      "  fig.canvas.print_figure(bytes_io, **kw)\n",
      "e:\\Ashu_Main\\feedback_fusion\\Feedback-Fusion\\minor-feedback-fusion\\Lib\\site-packages\\IPython\\core\\pylabtools.py:170: UserWarning: Glyph 10062 (\\N{NEGATIVE SQUARED CROSS MARK}) missing from font(s) DejaVu Sans.\n",
      "  fig.canvas.print_figure(bytes_io, **kw)\n",
      "e:\\Ashu_Main\\feedback_fusion\\Feedback-Fusion\\minor-feedback-fusion\\Lib\\site-packages\\IPython\\core\\pylabtools.py:170: UserWarning: Glyph 9989 (\\N{WHITE HEAVY CHECK MARK}) missing from font(s) DejaVu Sans.\n",
      "  fig.canvas.print_figure(bytes_io, **kw)\n",
      "e:\\Ashu_Main\\feedback_fusion\\Feedback-Fusion\\minor-feedback-fusion\\Lib\\site-packages\\IPython\\core\\pylabtools.py:170: UserWarning: Glyph 129315 (\\N{ROLLING ON THE FLOOR LAUGHING}) missing from font(s) DejaVu Sans.\n",
      "  fig.canvas.print_figure(bytes_io, **kw)\n",
      "e:\\Ashu_Main\\feedback_fusion\\Feedback-Fusion\\minor-feedback-fusion\\Lib\\site-packages\\IPython\\core\\pylabtools.py:170: UserWarning: Glyph 129309 (\\N{HANDSHAKE}) missing from font(s) DejaVu Sans.\n",
      "  fig.canvas.print_figure(bytes_io, **kw)\n",
      "e:\\Ashu_Main\\feedback_fusion\\Feedback-Fusion\\minor-feedback-fusion\\Lib\\site-packages\\IPython\\core\\pylabtools.py:170: UserWarning: Glyph 129313 (\\N{CLOWN FACE}) missing from font(s) DejaVu Sans.\n",
      "  fig.canvas.print_figure(bytes_io, **kw)\n"
     ]
    },
    {
     "data": {
      "image/png": "[encoded data removed]",
      "text/plain": [
       "<Figure size 640x480 with 1 Axes>"
      ]
     },
     "metadata": {},
     "output_type": "display_data"
    }
   ],
   "source": [
    "def visualize_emojis(emoji_analysis):\n",
    "    \n",
    "    emojis = list(emoji_analysis.keys())\n",
    "    frequencies = list(emoji_analysis.values())\n",
    "    \n",
    "    plt.bar(emojis[:10], frequencies[:10], color='purple')  # Taking only the top 10\n",
    "    plt.xlabel('Emoji')\n",
    "    plt.ylabel('Frequency')\n",
    "    plt.title('Top 10 Most Frequently Used Emojis')\n",
    "    plt.xticks(rotation=45)\n",
    "    plt.show()\n",
    "    \n",
    "visualize_emojis(emoji_analysis)"
   ]
  },
  {
   "cell_type": "code",
   "execution_count": null,
   "metadata": {},
   "outputs": [],
   "source": []
  },
  {
   "cell_type": "code",
   "execution_count": 58,
   "metadata": {},
   "outputs": [],
   "source": [
    "only_com.to_csv(\"output_01.csv\", index = False)"
   ]
  },
  {
   "cell_type": "code",
   "execution_count": null,
   "metadata": {},
   "outputs": [],
   "source": []
  }
 ],
 "metadata": {
  "kernelspec": {
   "display_name": "minor-feedback-fusion",
   "language": "python",
   "name": "python3"
  },
  "language_info": {
   "codemirror_mode": {
    "name": "ipython",
    "version": 3
   },
   "file_extension": ".py",
   "mimetype": "text/x-python",
   "name": "python",
   "nbconvert_exporter": "python",
   "pygments_lexer": "ipython3",
   "version": "3.11.7"
  }
 },
 "nbformat": 4,
 "nbformat_minor": 2
}
