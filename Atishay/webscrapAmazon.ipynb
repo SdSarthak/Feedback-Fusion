{
 "cells": [
  {
   "cell_type": "code",
   "execution_count": 10,
   "metadata": {},
   "outputs": [],
   "source": [
    "import time\n",
    "import pandas as pd\n",
    "from selenium import webdriver\n",
    "from selenium.webdriver.chrome.service import Service\n",
    "from bs4 import BeautifulSoup\n",
    "\n",
    "service = Service('E:\\Ashu_Main\\Minor\\chromedriver-win64\\chromedriver.exe')\n",
    "driver =  webdriver.Chrome(service = service)\n",
    "\n",
    "url = 'https://www.amazon.in/Lenovo-IdeaPad-i7-13620H-38-1cm-83EM008GIN/dp/B0D6NCVQZQ?pd_rd_w=7uuCQ&content-id=amzn1.sym.0b7b9997-4f6b-4b34-af9c-707781b704bc&pf_rd_p=0b7b9997-4f6b-4b34-af9c-707781b704bc&pf_rd_r=BEBPTCBZ4KZ9BZJC12XP&pd_rd_wg=SNZJR&pd_rd_r=44361d62-8192-4b0f-a41a-481da375b6a4&pd_rd_i=B0D6NCVQZQ&ref_=pd_hp_d_btf_unk_B0D6NCVQZQ'\n",
    "driver.get(url)\n",
    "\n",
    "time.sleep(2)\n",
    "\n",
    "for _ in range(5):\n",
    "    driver.execute_script(\"window.scrollTo(0, document.body.scrollHeight);\")\n",
    "    time.sleep(2)\n",
    "    \n",
    "soup = BeautifulSoup(driver.page_source, 'html.parser')\n",
    "\n",
    "reviews = soup.find_all('div',{'data-hook':'review'})\n",
    "\n",
    "driver.quit()\n",
    "\n",
    "data = []\n",
    "\n",
    "for review in reviews:\n",
    "    review_text = review.find('span', {'data-hook':'review-body'}).text.strip()\n",
    "    review_rating = review.find('i',{'data-hook':'review-star-rating'}).text.strip()\n",
    "    review_title = review.find('a',{'data-hook': 'review-title'}).text.strip()\n",
    "    data.append([review_title, review_text,review_rating])\n",
    "    \n",
    "df = pd.DataFrame(data, columns=['Title','Review','Rating'])\n"
   ]
  },
  {
   "cell_type": "markdown",
   "metadata": {},
   "source": []
  },
  {
   "cell_type": "code",
   "execution_count": 11,
   "metadata": {},
   "outputs": [
    {
     "data": {
      "text/html": [
       "<div>\n",
       "<style scoped>\n",
       "    .dataframe tbody tr th:only-of-type {\n",
       "        vertical-align: middle;\n",
       "    }\n",
       "\n",
       "    .dataframe tbody tr th {\n",
       "        vertical-align: top;\n",
       "    }\n",
       "\n",
       "    .dataframe thead th {\n",
       "        text-align: right;\n",
       "    }\n",
       "</style>\n",
       "<table border=\"1\" class=\"dataframe\">\n",
       "  <thead>\n",
       "    <tr style=\"text-align: right;\">\n",
       "      <th></th>\n",
       "      <th>Title</th>\n",
       "      <th>Review</th>\n",
       "      <th>Rating</th>\n",
       "    </tr>\n",
       "  </thead>\n",
       "  <tbody>\n",
       "    <tr>\n",
       "      <th>0</th>\n",
       "      <td>5.0 out of 5 stars\\nA good Product from lenovo</td>\n",
       "      <td>I am using it from last 30 days and till now h...</td>\n",
       "      <td>5.0 out of 5 stars</td>\n",
       "    </tr>\n",
       "    <tr>\n",
       "      <th>1</th>\n",
       "      <td>4.0 out of 5 stars\\nA Good Laptop with heat is...</td>\n",
       "      <td>First of all thanks to Amazon for the fastest ...</td>\n",
       "      <td>4.0 out of 5 stars</td>\n",
       "    </tr>\n",
       "    <tr>\n",
       "      <th>2</th>\n",
       "      <td>5.0 out of 5 stars\\nBest in class with Premium...</td>\n",
       "      <td>The media could not be loaded.\\n              ...</td>\n",
       "      <td>5.0 out of 5 stars</td>\n",
       "    </tr>\n",
       "    <tr>\n",
       "      <th>3</th>\n",
       "      <td>1.0 out of 5 stars\\nTouchpad stopped working</td>\n",
       "      <td>After 3 month of use suddenly my touchpad stop...</td>\n",
       "      <td>1.0 out of 5 stars</td>\n",
       "    </tr>\n",
       "    <tr>\n",
       "      <th>4</th>\n",
       "      <td>5.0 out of 5 stars\\nBest for  Developer</td>\n",
       "      <td>Awesome for and very fast to load IDE and many...</td>\n",
       "      <td>5.0 out of 5 stars</td>\n",
       "    </tr>\n",
       "  </tbody>\n",
       "</table>\n",
       "</div>"
      ],
      "text/plain": [
       "                                               Title  \\\n",
       "0     5.0 out of 5 stars\\nA good Product from lenovo   \n",
       "1  4.0 out of 5 stars\\nA Good Laptop with heat is...   \n",
       "2  5.0 out of 5 stars\\nBest in class with Premium...   \n",
       "3       1.0 out of 5 stars\\nTouchpad stopped working   \n",
       "4            5.0 out of 5 stars\\nBest for  Developer   \n",
       "\n",
       "                                              Review              Rating  \n",
       "0  I am using it from last 30 days and till now h...  5.0 out of 5 stars  \n",
       "1  First of all thanks to Amazon for the fastest ...  4.0 out of 5 stars  \n",
       "2  The media could not be loaded.\\n              ...  5.0 out of 5 stars  \n",
       "3  After 3 month of use suddenly my touchpad stop...  1.0 out of 5 stars  \n",
       "4  Awesome for and very fast to load IDE and many...  5.0 out of 5 stars  "
      ]
     },
     "execution_count": 11,
     "metadata": {},
     "output_type": "execute_result"
    }
   ],
   "source": [
    "df.head()"
   ]
  },
  {
   "cell_type": "code",
   "execution_count": null,
   "metadata": {},
   "outputs": [],
   "source": []
  }
 ],
 "metadata": {
  "kernelspec": {
   "display_name": "venv",
   "language": "python",
   "name": "python3"
  },
  "language_info": {
   "codemirror_mode": {
    "name": "ipython",
    "version": 3
   },
   "file_extension": ".py",
   "mimetype": "text/x-python",
   "name": "python",
   "nbconvert_exporter": "python",
   "pygments_lexer": "ipython3",
   "version": "3.11.7"
  }
 },
 "nbformat": 4,
 "nbformat_minor": 2
}
