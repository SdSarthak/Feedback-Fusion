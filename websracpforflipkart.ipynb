{
 "cells": [
  {
   "cell_type": "code",
   "execution_count": 9,
   "metadata": {},
   "outputs": [],
   "source": [
    "import time\n",
    "import pandas as pd\n",
    "from selenium import webdriver\n",
    "from selenium.webdriver.chrome.service import Service\n",
    "from selenium.webdriver.common.action_chains import ActionChains\n",
    "from selenium.webdriver.common.by import By\n",
    "from bs4 import BeautifulSoup\n",
    "\n",
    "service = Service('E:\\Ashu_Main\\Minor\\chromedriver-win64\\chromedriver.exe')\n",
    "driver =  webdriver.Chrome(service = service)\n",
    "\n",
    "url = 'https://www.flipkart.com/chuwi-intel-celeron-dual-core-11th-gen-n4020-8-gb-256-gb-ssd-windows-11-home-herobook-pro-laptop/p/itm5e1f327988402?pid=COMGQHMZWHRXFWET&lid=LSTCOMGQHMZWHRXFWETVNWSPG&marketplace=FLIPKART&q=laptops&store=6bo%2Fb5g&srno=s_1_2&otracker=AS_Query_TrendingAutoSuggest_4_0_na_na_na&otracker1=AS_Query_TrendingAutoSuggest_4_0_na_na_na&fm=organic&iid=en_DKkQsA9N7KIuvEKF3BgflOpcO9TQ5XfvEizh1yE4QpSiOTGmKijFU14FxkZmJ0uFwrW3kR5AA3Ff3gY9C4HZMw%3D%3D&ppt=hp&ppn=homepage&ssid=mhuzh1xl340000001729935568389&qH=c06ea84a1e3dc3c6'\n",
    "driver.get(url)\n",
    "\n",
    "time.sleep(2)\n",
    "\n",
    "for _ in range(10):\n",
    "    driver.execute_script(\"window.scrollTo(0, document.body.scrollHeight);\")\n",
    "    time.sleep(2)\n",
    "    \n",
    "soup = BeautifulSoup(driver.page_source, 'html.parser')\n",
    "\n",
    "reviews = soup.find_all('div', {'class': '_8-rIO3'})\n",
    "\n",
    "driver.quit()\n",
    "\n",
    "data = []\n",
    "\n",
    "for review in reviews:\n",
    "    try:\n",
    "        review_text = review.find('div', {'class': 'ZmyHeo'}).text.strip()\n",
    "        review_rating = review.find('div', {'class': 'XQDdHH Ga3i8K'}).text.strip()\n",
    "        review_title = review.find('p', {'class': 'z9E0IG'}).text.strip()\n",
    "        data.append([review_title, review_text, review_rating])\n",
    "    except AttributeError:\n",
    "        # Skip if any field is missing\n",
    "        continue\n",
    "    \n",
    "df = pd.DataFrame(data, columns=['Title','Review','Rating'])"
   ]
  },
  {
   "cell_type": "code",
   "execution_count": 10,
   "metadata": {},
   "outputs": [
    {
     "data": {
      "text/html": [
       "<div>\n",
       "<style scoped>\n",
       "    .dataframe tbody tr th:only-of-type {\n",
       "        vertical-align: middle;\n",
       "    }\n",
       "\n",
       "    .dataframe tbody tr th {\n",
       "        vertical-align: top;\n",
       "    }\n",
       "\n",
       "    .dataframe thead th {\n",
       "        text-align: right;\n",
       "    }\n",
       "</style>\n",
       "<table border=\"1\" class=\"dataframe\">\n",
       "  <thead>\n",
       "    <tr style=\"text-align: right;\">\n",
       "      <th></th>\n",
       "      <th>Title</th>\n",
       "      <th>Review</th>\n",
       "      <th>Rating</th>\n",
       "    </tr>\n",
       "  </thead>\n",
       "  <tbody>\n",
       "    <tr>\n",
       "      <th>0</th>\n",
       "      <td>Perfect product!</td>\n",
       "      <td>Laptop is a Good But Battery Problem.. Continu...</td>\n",
       "      <td>5</td>\n",
       "    </tr>\n",
       "  </tbody>\n",
       "</table>\n",
       "</div>"
      ],
      "text/plain": [
       "              Title                                             Review Rating\n",
       "0  Perfect product!  Laptop is a Good But Battery Problem.. Continu...      5"
      ]
     },
     "execution_count": 10,
     "metadata": {},
     "output_type": "execute_result"
    }
   ],
   "source": [
    "df.head()"
   ]
  },
  {
   "cell_type": "code",
   "execution_count": 11,
   "metadata": {},
   "outputs": [
    {
     "name": "stdout",
     "output_type": "stream",
     "text": [
      "No more pages or error clicking 'Next': Message: no such element: Unable to locate element: {\"method\":\"css selector\",\"selector\":\"._1LKTO3\"}\n",
      "  (Session info: chrome=130.0.6723.70); For documentation on this error, please visit: https://www.selenium.dev/documentation/webdriver/troubleshooting/errors#no-such-element-exception\n",
      "Stacktrace:\n",
      "\tGetHandleVerifier [0x00007FF6A0D93AB5+28005]\n",
      "\t(No symbol) [0x00007FF6A0CF83B0]\n",
      "\t(No symbol) [0x00007FF6A0B9580A]\n",
      "\t(No symbol) [0x00007FF6A0BE5A3E]\n",
      "\t(No symbol) [0x00007FF6A0BE5D2C]\n",
      "\t(No symbol) [0x00007FF6A0C2EA97]\n",
      "\t(No symbol) [0x00007FF6A0C0BA7F]\n",
      "\t(No symbol) [0x00007FF6A0C2B8B3]\n",
      "\t(No symbol) [0x00007FF6A0C0B7E3]\n",
      "\t(No symbol) [0x00007FF6A0BD75C8]\n",
      "\t(No symbol) [0x00007FF6A0BD8731]\n",
      "\tGetHandleVerifier [0x00007FF6A108643D+3118829]\n",
      "\tGetHandleVerifier [0x00007FF6A10D6C90+3448640]\n",
      "\tGetHandleVerifier [0x00007FF6A10CCF0D+3408317]\n",
      "\tGetHandleVerifier [0x00007FF6A0E5A40B+841403]\n",
      "\t(No symbol) [0x00007FF6A0D0340F]\n",
      "\t(No symbol) [0x00007FF6A0CFF484]\n",
      "\t(No symbol) [0x00007FF6A0CFF61D]\n",
      "\t(No symbol) [0x00007FF6A0CEEB79]\n",
      "\tBaseThreadInitThunk [0x00007FFB5755257D+29]\n",
      "\tRtlUserThreadStart [0x00007FFB580EAF08+40]\n",
      "\n"
     ]
    }
   ],
   "source": [
    "import time\n",
    "import pandas as pd\n",
    "from selenium import webdriver\n",
    "from selenium.webdriver.common.by import By\n",
    "from selenium.webdriver.chrome.service import Service\n",
    "from selenium.webdriver.common.action_chains import ActionChains\n",
    "from bs4 import BeautifulSoup\n",
    "\n",
    "# Set up Selenium WebDriver\n",
    "service = Service('E:\\\\Ashu_Main\\\\Minor\\\\chromedriver-win64\\\\chromedriver.exe')\n",
    "driver = webdriver.Chrome(service=service)\n",
    "\n",
    "url = 'https://flipkart.com/asus-vivobook-15-intel-core-i5-12th-gen-1235u-8-gb-512-gb-ssd-windows-11-home-x1504za-nj521ws-x1504za-nj520ws-x1504za-nj528ws-thin-light-laptop/p/itmff0e170cb596e?pid=COMHYWSWMFQQBCG3&lid=LSTCOMHYWSWMFQQBCG3ZA9JEY&marketplace=FLIPKART&q=laptops&store=6bo%2Fb5g&srno=s_1_1&otracker=AS_Query_TrendingAutoSuggest_4_0_na_na_na&otracker1=AS_Query_TrendingAutoSuggest_4_0_na_na_na&fm=organic&iid=en_DKkQsA9N7KIuvEKF3BgflOpcO9TQ5XfvEizh1yE4QpR3mqCyUF39Gc5ZyKc0b-FfTSfaFgKaftC4rPhu0dT1m_UFjCTyOHoHZs-Z5_PS_w0%3D&ppt=hp&ppn=homepage&ssid=mhuzh1xl340000001729935568389&qH=c06ea84a1e3dc3c6'\n",
    "driver.get(url)\n",
    "time.sleep(2)\n",
    "\n",
    "data = []\n",
    "\n",
    "# Load reviews and iterate through pages\n",
    "for _ in range(5):  # Adjust range to load more pages\n",
    "    time.sleep(2)\n",
    "    soup = BeautifulSoup(driver.page_source, 'html.parser')\n",
    "    reviews = soup.find_all('div', {'class': '_8-rIO3'})  # Update class if needed\n",
    "\n",
    "    # Extract each review on the current page\n",
    "    for review in reviews:\n",
    "        try:\n",
    "            review_text = review.find('div', {'class': 'ZmyHeo'}).text.strip()\n",
    "            review_rating = review.find('div', {'class': 'XQDdHH Ga3i8K'}).text.strip()\n",
    "            review_title = review.find('p', {'class': 'z9E0IG'}).text.strip()\n",
    "            data.append([review_title, review_text, review_rating])\n",
    "        except AttributeError:\n",
    "            # Skip if any field is missing\n",
    "            continue\n",
    "\n",
    "    # Try clicking \"Next\" button to load the next page of reviews\n",
    "    try:\n",
    "        next_button = driver.find_element(By.CLASS_NAME, '_1LKTO3')\n",
    "        ActionChains(driver).move_to_element(next_button).click(next_button).perform()\n",
    "    except Exception as e:\n",
    "        print(\"No more pages or error clicking 'Next':\", e)\n",
    "        break\n",
    "\n",
    "# Close the driver\n",
    "driver.quit()\n",
    "\n",
    "# Convert to DataFrame and save to CSV\n",
    "df = pd.DataFrame(data, columns=['Title', 'Review', 'Rating'])\n",
    "\n"
   ]
  },
  {
   "cell_type": "code",
   "execution_count": 12,
   "metadata": {},
   "outputs": [
    {
     "data": {
      "text/html": [
       "<div>\n",
       "<style scoped>\n",
       "    .dataframe tbody tr th:only-of-type {\n",
       "        vertical-align: middle;\n",
       "    }\n",
       "\n",
       "    .dataframe tbody tr th {\n",
       "        vertical-align: top;\n",
       "    }\n",
       "\n",
       "    .dataframe thead th {\n",
       "        text-align: right;\n",
       "    }\n",
       "</style>\n",
       "<table border=\"1\" class=\"dataframe\">\n",
       "  <thead>\n",
       "    <tr style=\"text-align: right;\">\n",
       "      <th></th>\n",
       "      <th>Title</th>\n",
       "      <th>Review</th>\n",
       "      <th>Rating</th>\n",
       "    </tr>\n",
       "  </thead>\n",
       "  <tbody>\n",
       "    <tr>\n",
       "      <th>0</th>\n",
       "      <td>Must buy!</td>\n",
       "      <td>Overall laptop is very good and full package o...</td>\n",
       "      <td>5</td>\n",
       "    </tr>\n",
       "  </tbody>\n",
       "</table>\n",
       "</div>"
      ],
      "text/plain": [
       "       Title                                             Review Rating\n",
       "0  Must buy!  Overall laptop is very good and full package o...      5"
      ]
     },
     "execution_count": 12,
     "metadata": {},
     "output_type": "execute_result"
    }
   ],
   "source": [
    "df.head()"
   ]
  },
  {
   "cell_type": "code",
   "execution_count": null,
   "metadata": {},
   "outputs": [],
   "source": []
  }
 ],
 "metadata": {
  "kernelspec": {
   "display_name": "venv",
   "language": "python",
   "name": "python3"
  },
  "language_info": {
   "codemirror_mode": {
    "name": "ipython",
    "version": 3
   },
   "file_extension": ".py",
   "mimetype": "text/x-python",
   "name": "python",
   "nbconvert_exporter": "python",
   "pygments_lexer": "ipython3",
   "version": "3.11.7"
  }
 },
 "nbformat": 4,
 "nbformat_minor": 2
}
